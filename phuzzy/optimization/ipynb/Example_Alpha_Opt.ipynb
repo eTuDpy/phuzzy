{
 "cells": [
  {
   "cell_type": "code",
   "execution_count": 1,
   "metadata": {
    "collapsed": false
   },
   "outputs": [
    {
     "name": "stdout",
     "output_type": "stream",
     "text": [
      "no display found. Using non-interactive Agg backend\n"
     ]
    },
    {
     "name": "stderr",
     "output_type": "stream",
     "text": [
      "C:\\Users\\boos\\PycharmProjects\\phuzzy\\phuzzy\\mpl\\__init__.py:7: UserWarning: \nThis call to matplotlib.use() has no effect because the backend has already\nbeen chosen; matplotlib.use() must be called *before* pylab, matplotlib.pyplot,\nor matplotlib.backends is imported for the first time.\n\nThe backend was *originally* set to 'module://ipykernel.pylab.backend_inline' by the following code:\n  File \"C:\\ProgramData\\Anaconda3\\lib\\runpy.py\", line 193, in _run_module_as_main\n    \"__main__\", mod_spec)\n  File \"C:\\ProgramData\\Anaconda3\\lib\\runpy.py\", line 85, in _run_code\n    exec(code, run_globals)\n  File \"C:\\Users\\boos\\PycharmProjects\\phuzzy\\venv\\lib\\site-packages\\ipykernel_launcher.py\", line 16, in <module>\n    app.launch_new_instance()\n  File \"C:\\Users\\boos\\PycharmProjects\\phuzzy\\venv\\lib\\site-packages\\traitlets\\config\\application.py\", line 658, in launch_instance\n    app.start()\n  File \"C:\\Users\\boos\\PycharmProjects\\phuzzy\\venv\\lib\\site-packages\\ipykernel\\kernelapp.py\", line 505, in start\n    self.io_loop.start()\n  File \"C:\\Users\\boos\\PycharmProjects\\phuzzy\\venv\\lib\\site-packages\\tornado\\platform\\asyncio.py\", line 132, in start\n    self.asyncio_loop.run_forever()\n  File \"C:\\ProgramData\\Anaconda3\\lib\\asyncio\\base_events.py\", line 421, in run_forever\n    self._run_once()\n  File \"C:\\ProgramData\\Anaconda3\\lib\\asyncio\\base_events.py\", line 1431, in _run_once\n    handle._run()\n  File \"C:\\ProgramData\\Anaconda3\\lib\\asyncio\\events.py\", line 145, in _run\n    self._callback(*self._args)\n  File \"C:\\Users\\boos\\PycharmProjects\\phuzzy\\venv\\lib\\site-packages\\tornado\\ioloop.py\", line 758, in _run_callback\n    ret = callback()\n  File \"C:\\Users\\boos\\PycharmProjects\\phuzzy\\venv\\lib\\site-packages\\tornado\\stack_context.py\", line 300, in null_wrapper\n    return fn(*args, **kwargs)\n  File \"C:\\Users\\boos\\PycharmProjects\\phuzzy\\venv\\lib\\site-packages\\tornado\\gen.py\", line 1233, in inner\n    self.run()\n  File \"C:\\Users\\boos\\PycharmProjects\\phuzzy\\venv\\lib\\site-packages\\tornado\\gen.py\", line 1147, in run\n    yielded = self.gen.send(value)\n  File \"C:\\Users\\boos\\PycharmProjects\\phuzzy\\venv\\lib\\site-packages\\ipykernel\\kernelbase.py\", line 370, in dispatch_queue\n    yield self.process_one()\n  File \"C:\\Users\\boos\\PycharmProjects\\phuzzy\\venv\\lib\\site-packages\\tornado\\gen.py\", line 346, in wrapper\n    runner = Runner(result, future, yielded)\n  File \"C:\\Users\\boos\\PycharmProjects\\phuzzy\\venv\\lib\\site-packages\\tornado\\gen.py\", line 1080, in __init__\n    self.run()\n  File \"C:\\Users\\boos\\PycharmProjects\\phuzzy\\venv\\lib\\site-packages\\tornado\\gen.py\", line 1147, in run\n    yielded = self.gen.send(value)\n  File \"C:\\Users\\boos\\PycharmProjects\\phuzzy\\venv\\lib\\site-packages\\ipykernel\\kernelbase.py\", line 357, in process_one\n    yield gen.maybe_future(dispatch(*args))\n  File \"C:\\Users\\boos\\PycharmProjects\\phuzzy\\venv\\lib\\site-packages\\tornado\\gen.py\", line 326, in wrapper\n    yielded = next(result)\n  File \"C:\\Users\\boos\\PycharmProjects\\phuzzy\\venv\\lib\\site-packages\\ipykernel\\kernelbase.py\", line 267, in dispatch_shell\n    yield gen.maybe_future(handler(stream, idents, msg))\n  File \"C:\\Users\\boos\\PycharmProjects\\phuzzy\\venv\\lib\\site-packages\\tornado\\gen.py\", line 326, in wrapper\n    yielded = next(result)\n  File \"C:\\Users\\boos\\PycharmProjects\\phuzzy\\venv\\lib\\site-packages\\ipykernel\\kernelbase.py\", line 534, in execute_request\n    user_expressions, allow_stdin,\n  File \"C:\\Users\\boos\\PycharmProjects\\phuzzy\\venv\\lib\\site-packages\\tornado\\gen.py\", line 326, in wrapper\n    yielded = next(result)\n  File \"C:\\Users\\boos\\PycharmProjects\\phuzzy\\venv\\lib\\site-packages\\ipykernel\\ipkernel.py\", line 294, in do_execute\n    res = shell.run_cell(code, store_history=store_history, silent=silent)\n  File \"C:\\Users\\boos\\PycharmProjects\\phuzzy\\venv\\lib\\site-packages\\ipykernel\\zmqshell.py\", line 536, in run_cell\n    return super(ZMQInteractiveShell, self).run_cell(*args, **kwargs)\n  File \"C:\\Users\\boos\\PycharmProjects\\phuzzy\\venv\\lib\\site-packages\\IPython\\core\\interactiveshell.py\", line 2819, in run_cell\n    raw_cell, store_history, silent, shell_futures)\n  File \"C:\\Users\\boos\\PycharmProjects\\phuzzy\\venv\\lib\\site-packages\\IPython\\core\\interactiveshell.py\", line 2845, in _run_cell\n    return runner(coro)\n  File \"C:\\Users\\boos\\PycharmProjects\\phuzzy\\venv\\lib\\site-packages\\IPython\\core\\async_helpers.py\", line 67, in _pseudo_sync_runner\n    coro.send(None)\n  File \"C:\\Users\\boos\\PycharmProjects\\phuzzy\\venv\\lib\\site-packages\\IPython\\core\\interactiveshell.py\", line 3020, in run_cell_async\n    interactivity=interactivity, compiler=compiler, result=result)\n  File \"C:\\Users\\boos\\PycharmProjects\\phuzzy\\venv\\lib\\site-packages\\IPython\\core\\interactiveshell.py\", line 3185, in run_ast_nodes\n    if (yield from self.run_code(code, result)):\n  File \"C:\\Users\\boos\\PycharmProjects\\phuzzy\\venv\\lib\\site-packages\\IPython\\core\\interactiveshell.py\", line 3267, in run_code\n    exec(code_obj, self.user_global_ns, self.user_ns)\n  File \"<ipython-input-1-f532aa4edee6>\", line 1, in <module>\n    import phuzzy\n  File \"C:\\Users\\boos\\PycharmProjects\\phuzzy\\phuzzy\\__init__.py\", line 23, in <module>\n    from phuzzy.shapes.skewnorm import Skewnorm\n  File \"C:\\Users\\boos\\PycharmProjects\\phuzzy\\phuzzy\\shapes\\skewnorm.py\", line 21, in <module>\n    import matplotlib.pyplot as plt\n  File \"C:\\Users\\boos\\PycharmProjects\\phuzzy\\venv\\lib\\site-packages\\matplotlib\\pyplot.py\", line 71, in <module>\n    from matplotlib.backends import pylab_setup\n  File \"C:\\Users\\boos\\PycharmProjects\\phuzzy\\venv\\lib\\site-packages\\matplotlib\\backends\\__init__.py\", line 16, in <module>\n    line for line in traceback.format_stack()\n\n\n  matplotlib.use('Agg')\n"
     ]
    }
   ],
   "source": [
    "import phuzzy\n",
    "from phuzzy.optimization import alphaOpt\n",
    "import matplotlib.pyplot as plt\n",
    "%matplotlib inline\n",
    "plt.style.use('seaborn')"
   ]
  },
  {
   "cell_type": "code",
   "execution_count": 2,
   "metadata": {},
   "outputs": [],
   "source": [
    "v1 = phuzzy.Triangle(alpha0=[1,4], alpha1=[2], name='v1', number_of_alpha_levels=3)\n",
    "v2 = phuzzy.Triangle(alpha0=[0, 4], alpha1=[1], name='v2', number_of_alpha_levels=5)\n",
    "v3 = phuzzy.Triangle(alpha0=[1, 4], alpha1=[2], name='v3', number_of_alpha_levels=3)\n",
    "v4 = phuzzy.Triangle(alpha0=[0,4], alpha1=[2.5], name='v4', number_of_alpha_levels=3)\n",
    "v5 = phuzzy.Triangle(alpha0=[1, 4], alpha1=[3], name='v5', number_of_alpha_levels=3)\n",
    "v6 = phuzzy.Triangle(alpha0=[1,5], alpha1=[3], name='v6', number_of_alpha_levels=3)\n",
    "fuzzy_input_variables = [v1,v2,v3,v4,v5,v6]\n"
   ]
  },
  {
   "cell_type": "code",
   "execution_count": 12,
   "metadata": {},
   "outputs": [
    {
     "name": "stderr",
     "output_type": "stream",
     "text": [
      "\r1st Loop:   0%|          | 0/5 [00:00<?, ?it/s]"
     ]
    },
    {
     "name": "stderr",
     "output_type": "stream",
     "text": [
      "\r1st Loop:  40%|████      | 2/5 [00:00<00:01,  2.02it/s]"
     ]
    },
    {
     "name": "stderr",
     "output_type": "stream",
     "text": [
      "\r1st Loop:  60%|██████    | 3/5 [00:02<00:01,  1.39it/s]"
     ]
    },
    {
     "name": "stderr",
     "output_type": "stream",
     "text": [
      "\r1st Loop:  80%|████████  | 4/5 [00:03<00:00,  1.14it/s]"
     ]
    },
    {
     "name": "stderr",
     "output_type": "stream",
     "text": [
      "\r1st Loop: 100%|██████████| 5/5 [00:05<00:00,  1.09s/it]"
     ]
    },
    {
     "name": "stderr",
     "output_type": "stream",
     "text": [
      "\n"
     ]
    },
    {
     "data": {
      "text/plain": [
       "Opti_Test_String(x:[[-15.9, 451], [100, 100]])"
      ]
     },
     "execution_count": 12,
     "metadata": {},
     "output_type": "execute_result"
    }
   ],
   "source": [
    "obj_function = '-1*((x[0] - 1) ** 2 + (x[1] + .1) ** 2 + .1 - (x[2] + 2) ** 2 - ' \\\n",
    "               '(x[3] - 0.1) ** 2 - (x[4] * x[5]) ** 2)'\n",
    "kwargs = {'fuzzy_variables': fuzzy_input_variables,\n",
    "          'obj_function': obj_function, 'name': 'Opti_Test_String'}\n",
    "z_string = alphaOpt.Alpha_Level_Optimization(**kwargs)\n",
    "z_string.main()  #Default: n=60,iters=3,optimizer=\"sobol\",backup=False,start_at=None\n",
    "z_string"
   ]
  },
  {
   "cell_type": "code",
   "execution_count": 14,
   "metadata": {},
   "outputs": [
    {
     "name": "stderr",
     "output_type": "stream",
     "text": [
      "\r1st Loop:   0%|          | 0/5 [00:00<?, ?it/s]"
     ]
    },
    {
     "name": "stderr",
     "output_type": "stream",
     "text": [
      "\r1st Loop:  40%|████      | 2/5 [00:01<00:01,  1.99it/s]"
     ]
    },
    {
     "name": "stderr",
     "output_type": "stream",
     "text": [
      "\r1st Loop:  60%|██████    | 3/5 [00:02<00:01,  1.38it/s]"
     ]
    },
    {
     "name": "stderr",
     "output_type": "stream",
     "text": [
      "\r1st Loop:  80%|████████  | 4/5 [00:03<00:00,  1.13it/s]"
     ]
    },
    {
     "name": "stderr",
     "output_type": "stream",
     "text": [
      "\r1st Loop: 100%|██████████| 5/5 [00:05<00:00,  1.07s/it]"
     ]
    },
    {
     "name": "stderr",
     "output_type": "stream",
     "text": [
      "\n"
     ]
    },
    {
     "data": {
      "text/plain": [
       "Opti_Test_Function(x:[[-15.9, 451], [100, 100]])"
      ]
     },
     "execution_count": 14,
     "metadata": {},
     "output_type": "execute_result"
    }
   ],
   "source": [
    "def function(x):\n",
    "    return -1*((x[0] - 1) ** 2 + (x[1] + .1) ** 2 + .1 - (x[2] + 2) ** 2 - \n",
    "               (x[3] - 0.1) ** 2 - (x[4] * x[5]) ** 2)\n",
    "\n",
    "kwargs2 = {'fuzzy_variables': fuzzy_input_variables, \n",
    "          'obj_function': function, 'name': 'Opti_Test_Function'}\n",
    "z_func = alphaOpt.Alpha_Level_Optimization(**kwargs2)\n",
    "z_func.main()\n",
    "z_func"
   ]
  },
  {
   "cell_type": "code",
   "execution_count": 8,
   "metadata": {
    "collapsed": false
   },
   "outputs": [
    {
     "data": {
      "text/html": [
       "<div>\n",
       "<style scoped>\n",
       "    .dataframe tbody tr th:only-of-type {\n",
       "        vertical-align: middle;\n",
       "    }\n",
       "\n",
       "    .dataframe tbody tr th {\n",
       "        vertical-align: top;\n",
       "    }\n",
       "\n",
       "    .dataframe thead th {\n",
       "        text-align: right;\n",
       "    }\n",
       "</style>\n",
       "<table border=\"1\" class=\"dataframe\">\n",
       "  <thead>\n",
       "    <tr style=\"text-align: right;\">\n",
       "      <th></th>\n",
       "      <th>alpha</th>\n",
       "      <th>l</th>\n",
       "      <th>r</th>\n",
       "    </tr>\n",
       "  </thead>\n",
       "  <tbody>\n",
       "    <tr>\n",
       "      <th>0</th>\n",
       "      <td>0.00</td>\n",
       "      <td>-15.909987</td>\n",
       "      <td>451.10000</td>\n",
       "    </tr>\n",
       "    <tr>\n",
       "      <th>1</th>\n",
       "      <td>0.25</td>\n",
       "      <td>-1.671875</td>\n",
       "      <td>327.15625</td>\n",
       "    </tr>\n",
       "    <tr>\n",
       "      <th>2</th>\n",
       "      <td>0.50</td>\n",
       "      <td>18.712500</td>\n",
       "      <td>230.21250</td>\n",
       "    </tr>\n",
       "    <tr>\n",
       "      <th>3</th>\n",
       "      <td>0.75</td>\n",
       "      <td>50.503125</td>\n",
       "      <td>155.95625</td>\n",
       "    </tr>\n",
       "    <tr>\n",
       "      <th>4</th>\n",
       "      <td>1.00</td>\n",
       "      <td>100.450000</td>\n",
       "      <td>100.45000</td>\n",
       "    </tr>\n",
       "  </tbody>\n",
       "</table>\n",
       "</div>"
      ],
      "text/plain": [
       "<div>\n",
       "<style scoped>\n",
       "    .dataframe tbody tr th:only-of-type {\n",
       "        vertical-align: middle;\n",
       "    }\n",
       "\n",
       "    .dataframe tbody tr th {\n",
       "        vertical-align: top;\n",
       "    }\n",
       "\n",
       "    .dataframe thead th {\n",
       "        text-align: right;\n",
       "    }\n",
       "</style>\n",
       "<table border=\"1\" class=\"dataframe\">\n",
       "  <thead>\n",
       "    <tr style=\"text-align: right;\">\n",
       "      <th></th>\n",
       "      <th>alpha</th>\n",
       "      <th>l</th>\n",
       "      <th>r</th>\n",
       "    </tr>\n",
       "  </thead>\n",
       "  <tbody>\n",
       "    <tr>\n",
       "      <th>0</th>\n",
       "      <td>0.00</td>\n",
       "      <td>-15.909987</td>\n",
       "      <td>451.10000</td>\n",
       "    </tr>\n",
       "    <tr>\n",
       "      <th>1</th>\n",
       "      <td>0.25</td>\n",
       "      <td>-1.671875</td>\n",
       "      <td>327.15625</td>\n",
       "    </tr>\n",
       "    <tr>\n",
       "      <th>2</th>\n",
       "      <td>0.50</td>\n",
       "      <td>18.712500</td>\n",
       "      <td>230.21250</td>\n",
       "    </tr>\n",
       "    <tr>\n",
       "      <th>3</th>\n",
       "      <td>0.75</td>\n",
       "      <td>50.503125</td>\n",
       "      <td>155.95625</td>\n",
       "    </tr>\n",
       "    <tr>\n",
       "      <th>4</th>\n",
       "      <td>1.00</td>\n",
       "      <td>100.450000</td>\n",
       "      <td>100.45000</td>\n",
       "    </tr>\n",
       "  </tbody>\n",
       "</table>\n",
       "</div>"
      ]
     },
     "execution_count": 8,
     "metadata": {},
     "output_type": "execute_result"
    }
   ],
   "source": [
    "z_string.df"
   ]
  },
  {
   "cell_type": "code",
   "execution_count": 9,
   "metadata": {},
   "outputs": [
    {
     "data": {
      "text/html": [
       "<div>\n",
       "<style scoped>\n",
       "    .dataframe tbody tr th:only-of-type {\n",
       "        vertical-align: middle;\n",
       "    }\n",
       "\n",
       "    .dataframe tbody tr th {\n",
       "        vertical-align: top;\n",
       "    }\n",
       "\n",
       "    .dataframe thead th {\n",
       "        text-align: right;\n",
       "    }\n",
       "</style>\n",
       "<table border=\"1\" class=\"dataframe\">\n",
       "  <thead>\n",
       "    <tr style=\"text-align: right;\">\n",
       "      <th></th>\n",
       "      <th>alpha</th>\n",
       "      <th>l</th>\n",
       "      <th>r</th>\n",
       "    </tr>\n",
       "  </thead>\n",
       "  <tbody>\n",
       "    <tr>\n",
       "      <th>0</th>\n",
       "      <td>0.00</td>\n",
       "      <td>-15.91</td>\n",
       "      <td>451.10</td>\n",
       "    </tr>\n",
       "    <tr>\n",
       "      <th>1</th>\n",
       "      <td>0.25</td>\n",
       "      <td>-1.67</td>\n",
       "      <td>327.16</td>\n",
       "    </tr>\n",
       "    <tr>\n",
       "      <th>2</th>\n",
       "      <td>0.50</td>\n",
       "      <td>18.71</td>\n",
       "      <td>230.21</td>\n",
       "    </tr>\n",
       "    <tr>\n",
       "      <th>3</th>\n",
       "      <td>0.75</td>\n",
       "      <td>50.50</td>\n",
       "      <td>155.96</td>\n",
       "    </tr>\n",
       "    <tr>\n",
       "      <th>4</th>\n",
       "      <td>1.00</td>\n",
       "      <td>100.45</td>\n",
       "      <td>100.45</td>\n",
       "    </tr>\n",
       "  </tbody>\n",
       "</table>\n",
       "</div>"
      ],
      "text/plain": [
       "<div>\n",
       "<style scoped>\n",
       "    .dataframe tbody tr th:only-of-type {\n",
       "        vertical-align: middle;\n",
       "    }\n",
       "\n",
       "    .dataframe tbody tr th {\n",
       "        vertical-align: top;\n",
       "    }\n",
       "\n",
       "    .dataframe thead th {\n",
       "        text-align: right;\n",
       "    }\n",
       "</style>\n",
       "<table border=\"1\" class=\"dataframe\">\n",
       "  <thead>\n",
       "    <tr style=\"text-align: right;\">\n",
       "      <th></th>\n",
       "      <th>alpha</th>\n",
       "      <th>l</th>\n",
       "      <th>r</th>\n",
       "    </tr>\n",
       "  </thead>\n",
       "  <tbody>\n",
       "    <tr>\n",
       "      <th>0</th>\n",
       "      <td>0.00</td>\n",
       "      <td>-15.91</td>\n",
       "      <td>451.10</td>\n",
       "    </tr>\n",
       "    <tr>\n",
       "      <th>1</th>\n",
       "      <td>0.25</td>\n",
       "      <td>-1.67</td>\n",
       "      <td>327.16</td>\n",
       "    </tr>\n",
       "    <tr>\n",
       "      <th>2</th>\n",
       "      <td>0.50</td>\n",
       "      <td>18.71</td>\n",
       "      <td>230.21</td>\n",
       "    </tr>\n",
       "    <tr>\n",
       "      <th>3</th>\n",
       "      <td>0.75</td>\n",
       "      <td>50.50</td>\n",
       "      <td>155.96</td>\n",
       "    </tr>\n",
       "    <tr>\n",
       "      <th>4</th>\n",
       "      <td>1.00</td>\n",
       "      <td>100.45</td>\n",
       "      <td>100.45</td>\n",
       "    </tr>\n",
       "  </tbody>\n",
       "</table>\n",
       "</div>"
      ]
     },
     "execution_count": 9,
     "metadata": {},
     "output_type": "execute_result"
    }
   ],
   "source": [
    "z_string.compact_output(round=2)             # Default: round=None\n",
    "z_string.df"
   ]
  },
  {
   "cell_type": "code",
   "execution_count": 10,
   "metadata": {
    "collapsed": false
   },
   "outputs": [
    {
     "data": {
      "text/html": [
       "<div>\n",
       "<style scoped>\n",
       "    .dataframe tbody tr th:only-of-type {\n",
       "        vertical-align: middle;\n",
       "    }\n",
       "\n",
       "    .dataframe tbody tr th {\n",
       "        vertical-align: top;\n",
       "    }\n",
       "\n",
       "    .dataframe thead th {\n",
       "        text-align: right;\n",
       "    }\n",
       "</style>\n",
       "<table border=\"1\" class=\"dataframe\">\n",
       "  <thead>\n",
       "    <tr style=\"text-align: right;\">\n",
       "      <th></th>\n",
       "      <th>alpha</th>\n",
       "      <th>l</th>\n",
       "      <th>best_indi_l</th>\n",
       "      <th>nfev_l</th>\n",
       "      <th>nit_l</th>\n",
       "      <th>r</th>\n",
       "      <th>best_indi_r</th>\n",
       "      <th>nfev_r</th>\n",
       "      <th>nit_r</th>\n",
       "    </tr>\n",
       "  </thead>\n",
       "  <tbody>\n",
       "    <tr>\n",
       "      <th>0</th>\n",
       "      <td>0.00</td>\n",
       "      <td>-15.9100</td>\n",
       "      <td>[4.0, 4.0, 1.0, 0.1036, 1.0, 1.0]</td>\n",
       "      <td>26</td>\n",
       "      <td>3</td>\n",
       "      <td>451.1000</td>\n",
       "      <td>[1.0, 0.0, 4.0, 4.0, 4.0, 5.0]</td>\n",
       "      <td>18</td>\n",
       "      <td>3</td>\n",
       "    </tr>\n",
       "    <tr>\n",
       "      <th>1</th>\n",
       "      <td>0.25</td>\n",
       "      <td>-1.6719</td>\n",
       "      <td>[3.5, 3.25, 1.25, 0.625, 1.5, 1.5]</td>\n",
       "      <td>132</td>\n",
       "      <td>3</td>\n",
       "      <td>327.1562</td>\n",
       "      <td>[1.25, 0.25, 3.5, 3.625, 3.75, 4.5]</td>\n",
       "      <td>132</td>\n",
       "      <td>3</td>\n",
       "    </tr>\n",
       "    <tr>\n",
       "      <th>2</th>\n",
       "      <td>0.50</td>\n",
       "      <td>18.7125</td>\n",
       "      <td>[3.0, 2.5, 1.5, 1.25, 2.0, 2.0]</td>\n",
       "      <td>232</td>\n",
       "      <td>3</td>\n",
       "      <td>230.2125</td>\n",
       "      <td>[1.5, 0.5, 3.0, 3.25, 3.5, 4.0]</td>\n",
       "      <td>232</td>\n",
       "      <td>3</td>\n",
       "    </tr>\n",
       "    <tr>\n",
       "      <th>3</th>\n",
       "      <td>0.75</td>\n",
       "      <td>50.5031</td>\n",
       "      <td>[2.5, 1.75, 1.75, 1.875, 2.5, 2.5]</td>\n",
       "      <td>166</td>\n",
       "      <td>3</td>\n",
       "      <td>155.9562</td>\n",
       "      <td>[1.75, 0.75, 2.5, 2.875, 3.25, 3.5]</td>\n",
       "      <td>166</td>\n",
       "      <td>3</td>\n",
       "    </tr>\n",
       "    <tr>\n",
       "      <th>4</th>\n",
       "      <td>1.00</td>\n",
       "      <td>100.4500</td>\n",
       "      <td>[2.0, 1.0, 2.0, 2.5, 3.0, 3.0]</td>\n",
       "      <td>0</td>\n",
       "      <td>0</td>\n",
       "      <td>100.4500</td>\n",
       "      <td>[2.0, 1.0, 2.0, 2.5, 3.0, 3.0]</td>\n",
       "      <td>0</td>\n",
       "      <td>0</td>\n",
       "    </tr>\n",
       "  </tbody>\n",
       "</table>\n",
       "</div>"
      ],
      "text/plain": [
       "<div>\n",
       "<style scoped>\n",
       "    .dataframe tbody tr th:only-of-type {\n",
       "        vertical-align: middle;\n",
       "    }\n",
       "\n",
       "    .dataframe tbody tr th {\n",
       "        vertical-align: top;\n",
       "    }\n",
       "\n",
       "    .dataframe thead th {\n",
       "        text-align: right;\n",
       "    }\n",
       "</style>\n",
       "<table border=\"1\" class=\"dataframe\">\n",
       "  <thead>\n",
       "    <tr style=\"text-align: right;\">\n",
       "      <th></th>\n",
       "      <th>alpha</th>\n",
       "      <th>l</th>\n",
       "      <th>best_indi_l</th>\n",
       "      <th>nfev_l</th>\n",
       "      <th>nit_l</th>\n",
       "      <th>r</th>\n",
       "      <th>best_indi_r</th>\n",
       "      <th>nfev_r</th>\n",
       "      <th>nit_r</th>\n",
       "    </tr>\n",
       "  </thead>\n",
       "  <tbody>\n",
       "    <tr>\n",
       "      <th>0</th>\n",
       "      <td>0.00</td>\n",
       "      <td>-15.9100</td>\n",
       "      <td>[4.0, 4.0, 1.0, 0.1036, 1.0, 1.0]</td>\n",
       "      <td>26</td>\n",
       "      <td>3</td>\n",
       "      <td>451.1000</td>\n",
       "      <td>[1.0, 0.0, 4.0, 4.0, 4.0, 5.0]</td>\n",
       "      <td>18</td>\n",
       "      <td>3</td>\n",
       "    </tr>\n",
       "    <tr>\n",
       "      <th>1</th>\n",
       "      <td>0.25</td>\n",
       "      <td>-1.6719</td>\n",
       "      <td>[3.5, 3.25, 1.25, 0.625, 1.5, 1.5]</td>\n",
       "      <td>132</td>\n",
       "      <td>3</td>\n",
       "      <td>327.1562</td>\n",
       "      <td>[1.25, 0.25, 3.5, 3.625, 3.75, 4.5]</td>\n",
       "      <td>132</td>\n",
       "      <td>3</td>\n",
       "    </tr>\n",
       "    <tr>\n",
       "      <th>2</th>\n",
       "      <td>0.50</td>\n",
       "      <td>18.7125</td>\n",
       "      <td>[3.0, 2.5, 1.5, 1.25, 2.0, 2.0]</td>\n",
       "      <td>232</td>\n",
       "      <td>3</td>\n",
       "      <td>230.2125</td>\n",
       "      <td>[1.5, 0.5, 3.0, 3.25, 3.5, 4.0]</td>\n",
       "      <td>232</td>\n",
       "      <td>3</td>\n",
       "    </tr>\n",
       "    <tr>\n",
       "      <th>3</th>\n",
       "      <td>0.75</td>\n",
       "      <td>50.5031</td>\n",
       "      <td>[2.5, 1.75, 1.75, 1.875, 2.5, 2.5]</td>\n",
       "      <td>166</td>\n",
       "      <td>3</td>\n",
       "      <td>155.9562</td>\n",
       "      <td>[1.75, 0.75, 2.5, 2.875, 3.25, 3.5]</td>\n",
       "      <td>166</td>\n",
       "      <td>3</td>\n",
       "    </tr>\n",
       "    <tr>\n",
       "      <th>4</th>\n",
       "      <td>1.00</td>\n",
       "      <td>100.4500</td>\n",
       "      <td>[2.0, 1.0, 2.0, 2.5, 3.0, 3.0]</td>\n",
       "      <td>0</td>\n",
       "      <td>0</td>\n",
       "      <td>100.4500</td>\n",
       "      <td>[2.0, 1.0, 2.0, 2.5, 3.0, 3.0]</td>\n",
       "      <td>0</td>\n",
       "      <td>0</td>\n",
       "    </tr>\n",
       "  </tbody>\n",
       "</table>\n",
       "</div>"
      ]
     },
     "execution_count": 10,
     "metadata": {},
     "output_type": "execute_result"
    }
   ],
   "source": [
    "z_string.extanded_output(round=4)   # Default: round=None\n",
    "z_string.df_extanded\n"
   ]
  },
  {
   "cell_type": "code",
   "execution_count": 11,
   "metadata": {},
   "outputs": [
    {
     "data": {
      "text/plain": [
       "1104"
      ]
     },
     "execution_count": 11,
     "metadata": {},
     "output_type": "execute_result"
    }
   ],
   "source": [
    "z_string.total_nfev"
   ]
  },
  {
   "cell_type": "code",
   "execution_count": 15,
   "metadata": {
    "collapsed": false
   },
   "outputs": [
    {
     "data": {
      "image/png": "[encoded data removed]",
      "text/plain": [
       "<Figure size 354.331x354.331 with 1 Axes>"
      ]
     },
     "metadata": {},
     "output_type": "display_data"
    },
    {
     "data": {
      "text/plain": [
       "True"
      ]
     },
     "execution_count": 15,
     "metadata": {},
     "output_type": "execute_result"
    }
   ],
   "source": [
    "z_string.plot(show=True, filepath=\"z_plot.png\")"
   ]
  },
  {
   "cell_type": "code",
   "execution_count": 30,
   "metadata": {
    "collapsed": false
   },
   "outputs": [
    {
     "data": {
      "image/png": "[encoded data removed]",
      "text/plain": [
       "<Figure size 354.331x354.331 with 1 Axes>"
      ]
     },
     "metadata": {},
     "output_type": "display_data"
    },
    {
     "data": {
      "text/plain": [
       "True"
      ]
     },
     "execution_count": 30,
     "metadata": {},
     "output_type": "execute_result"
    }
   ],
   "source": [
    "z_string.defuzzification(method = 'centroid')      # mean / alpha_one / centroid\n",
    "z_string.plot(show=True, defuzzy=z_string.determin_point,labels=True, filepath=\"z_centroid_plot.png\")\n"
   ]
  },
  {
   "cell_type": "code",
   "execution_count": 32,
   "metadata": {},
   "outputs": [],
   "source": [
    "# Export Simple Dataframe as CSV\n",
    "z_string.export_to_csv()       # Default df='simple', filepath=None\n",
    "\n",
    "# Export Extanded Dataframe as CSV\n",
    "z_string.export_to_csv(df='extended')       # Default df='simple', filepath=None"
   ]
  },
  {
   "cell_type": "code",
   "execution_count": 34,
   "metadata": {},
   "outputs": [
    {
     "data": {
      "image/png": "[encoded data removed]",
      "text/plain": [
       "<Figure size 354.331x354.331 with 1 Axes>"
      ]
     },
     "metadata": {},
     "output_type": "display_data"
    },
    {
     "data": {
      "text/plain": [
       "True"
      ]
     },
     "execution_count": 34,
     "metadata": {},
     "output_type": "execute_result"
    }
   ],
   "source": [
    "z_string.defuzzification(method = 'mean')      # mean / alpha_one / centroid\n",
    "z_string.plot(show=True, defuzzy=z_string.determin_point,labels=True, filepath=\"z_mean_plot.png\")"
   ]
  },
  {
   "cell_type": "code",
   "execution_count": 35,
   "metadata": {},
   "outputs": [
    {
     "name": "stderr",
     "output_type": "stream",
     "text": [
      "\r1st Loop:   0%|          | 0/2 [00:00<?, ?it/s]"
     ]
    },
    {
     "name": "stderr",
     "output_type": "stream",
     "text": [
      "\r1st Loop:  50%|█████     | 1/2 [00:01<00:01,  1.44s/it]"
     ]
    },
    {
     "name": "stderr",
     "output_type": "stream",
     "text": [
      "\r1st Loop: 100%|██████████| 2/2 [00:03<00:00,  1.51s/it]"
     ]
    },
    {
     "name": "stderr",
     "output_type": "stream",
     "text": [
      "\n"
     ]
    },
    {
     "data": {
      "image/png": "[encoded data removed]",
      "text/plain": [
       "<Figure size 354.331x354.331 with 1 Axes>"
      ]
     },
     "metadata": {},
     "output_type": "display_data"
    },
    {
     "data": {
      "text/plain": [
       "True"
      ]
     },
     "execution_count": 35,
     "metadata": {},
     "output_type": "execute_result"
    }
   ],
   "source": [
    "z_string.calculation(start_at=4)\n",
    "z_string.plot(show=True)"
   ]
  }
 ],
 "metadata": {
  "kernelspec": {
   "display_name": "Python 3",
   "language": "python",
   "name": "python3"
  },
  "language_info": {
   "codemirror_mode": {
    "name": "ipython",
    "version": 3
   },
   "file_extension": ".py",
   "mimetype": "text/x-python",
   "name": "python",
   "nbconvert_exporter": "python",
   "pygments_lexer": "ipython3",
   "version": "3.6.4"
  }
 },
 "nbformat": 4,
 "nbformat_minor": 1
}
